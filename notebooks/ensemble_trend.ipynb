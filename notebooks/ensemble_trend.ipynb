{
 "cells": [
  {
   "cell_type": "code",
   "execution_count": 1,
   "id": "d434adae-f9b5-44e3-9045-374d6dde9776",
   "metadata": {
    "tags": []
   },
   "outputs": [],
   "source": [
    "# I/O / data wrangling\n",
    "import os\n",
    "import glob\n",
    "import re\n",
    "import numpy as np\n",
    "import xarray as xr\n",
    "import xcdat as xc\n",
    "\n",
    "# runtime metrics\n",
    "import time as clocktime\n",
    "\n",
    "# plotting\n",
    "import matplotlib.pyplot as plt\n",
    "import cartopy.crs as ccrs\n",
    "from cartopy.util import add_cyclic_point\n",
    "\n",
    "# define a lambda function to perform natural sort\n",
    "natsort = lambda s: [int(t) if t.isdigit() else t.lower() for t in re.split(\"(\\d+)\", s)]"
   ]
  },
  {
   "cell_type": "code",
   "execution_count": 2,
   "id": "9350fb00-9e66-4841-9a3b-1b8e1897e782",
   "metadata": {
    "tags": []
   },
   "outputs": [],
   "source": [
    "cmipTable = {\n",
    "    \"pr\": \"Amon\",\n",
    "    \"psl\": \"Amon\",\n",
    "    \"tas\": \"Amon\",\n",
    "    \"zmta\": \"Amon\",\n",
    "    \"tos\": \"Omon\",\n",
    "    \"siconc\": \"OImon\",\n",
    "    \"monmaxpr\": \"Aday\",\n",
    "    \"monmaxtasmax\": \"Aday\",\n",
    "    \"monmintasmin\": \"Aday\",\n",
    "}\n",
    "cmipVar = {\n",
    "    \"pr\": \"pr\",\n",
    "    \"psl\": \"psl\",\n",
    "    \"tas\": \"tas\",\n",
    "    \"zmta\": \"ta\",\n",
    "    \"tos\": \"tos\",\n",
    "    \"siconc\": \"siconc\",\n",
    "    \"monmaxpr\": \"pr\",\n",
    "    \"monmaxtasmax\": \"tasmax\",\n",
    "    \"monmintasmin\": \"tasmin\",\n",
    "}\n",
    "evalPeriods = {\n",
    "    \"Tier1\": (\"1950-01-01\", \"2022-12-31\"),\n",
    "    \"Tier2\": (\"1900-01-01\", \"2022-12-31\"),\n",
    "    \"Tier3\": (\"1979-01-01\", \"2022-12-31\"),\n",
    "}\n",
    "nlat = 72\n",
    "nlon = 144"
   ]
  },
  {
   "cell_type": "markdown",
   "id": "27d5b421-ad8e-4399-bd89-d76d90b9ec2c",
   "metadata": {},
   "source": [
    "### Define user-specified parameters"
   ]
  },
  {
   "cell_type": "code",
   "execution_count": 3,
   "id": "bbf9bbe9-31d8-467b-99b1-872778e54ee0",
   "metadata": {
    "tags": []
   },
   "outputs": [],
   "source": [
    "root_dir = \"/glade/campaign/cgd/cas/asphilli/ForceSMIP/\"  # path to forcesmip data (NCAR)\n",
    "\n",
    "outdir = \"ForceSMIP_output/\"  # directory where output data should be saved\n",
    "\n",
    "ncvar = \"tos\"  # CMIP variable name to be used\n",
    "\n",
    "# choose models for training\n",
    "# choices include: 'CESM2', 'CanESM5', 'MIROC-ES2L', 'MIROC6', 'MPI-ESM1-2-LR'\n",
    "training_models = [\"CESM2\",\"CanESM5\",\"MIROC-ES2L\",\"MIROC6\",\"MPI-ESM1-2-LR\"]\n",
    "n_members = 10  # number of members for training\n",
    "\n",
    "# choose evaluation data\n",
    "eval_tier = \"Tier1\"  # Tier1, Tier2, or Tier3\n",
    "\n",
    "# no need to modify the training or reference period for LFCA\n",
    "tv_time_period = evalPeriods[eval_tier] # (\"1950-01-01\",\"2022-12-30\")  # period of time to consider data for training\n",
    "reference_period = tv_time_period # anomalies will be with respect to mean over entire period (convectional for LFCA)"
   ]
  },
  {
   "cell_type": "code",
   "execution_count": 4,
   "id": "da383d97-d61a-437c-b420-9e03409c057a",
   "metadata": {
    "tags": []
   },
   "outputs": [],
   "source": [
    "def load_realization(fn, vid, time_period, reference_period):\n",
    "    \"\"\"\n",
    "    load_realization(fn, vid, time_period, reference_period)\n",
    "    \n",
    "    Function loads in data for a given file, fn, and variable, vid. It\n",
    "    selects data for a given time_period and calculates the anomalies\n",
    "    relative to a user-defined reference_period. The function returns arrays\n",
    "    of the dimensions (time, lat, lon), the 3D anomaly map, and the global\n",
    "    mean time series. \n",
    "    \n",
    "    Inputs:\n",
    "    -------\n",
    "    fn (str) : filename\n",
    "    vid (str) : variable id\n",
    "    time_period (tuple(str, str)) : tuple of the start and end of the time period\n",
    "                                    e.g., (\"1900-01-01\", \"1949-12-31\")\n",
    "    reference_period (tuple(str, str)) : tuple of the start and end of the reference period\n",
    "                                         used to calculate anomalies e.g., (\"1900-01-01\", \"1949-12-31\")\n",
    "                                         \n",
    "    Returns:\n",
    "    --------\n",
    "    ts_3d (xr.DataArray) : monthly average anomaly values [time, lat, lon]\n",
    "    ts_gm (xr.DataArray) : monthly average, global mean anomaly values\n",
    "    \"\"\"\n",
    "    # open dataset\n",
    "    ds = xc.open_dataset(fn)\n",
    "    # if specified, subset training/validation data to specific period\n",
    "    if tv_time_period is not None:\n",
    "        ds = ds.sel(time=slice(time_period[0], time_period[1]))\n",
    "    # get departures\n",
    "    ds = ds.temporal.departures(vid, freq=\"month\", reference_period=reference_period)\n",
    "    # If you wanted annual averages instead, you could use the following:\n",
    "    # ds = ds.temporal.group_average(vid, freq=\"year\", weighted=False)\n",
    "    ts_3d = ds[vid]\n",
    "    # take spatial average\n",
    "    ds = ds.spatial.average(vid)\n",
    "    ts_gm = ds[vid]\n",
    "    # clean up \n",
    "    ds.close()\n",
    "    # return values\n",
    "    return ts_3d, ts_gm"
   ]
  },
  {
   "cell_type": "code",
   "execution_count": 5,
   "id": "d85aa310-bca2-42be-aca5-ff988c94fb7b",
   "metadata": {
    "tags": []
   },
   "outputs": [
    {
     "name": "stdout",
     "output_type": "stream",
     "text": [
      "1 / 5: CESM2 (50 members)\n",
      "..................................................\n",
      "Time elapsed: 101.60173559188843 seconds\n",
      "\n"
     ]
    }
   ],
   "source": [
    "# initialize dictionary to store data\n",
    "global_mean_timeseries = {}\n",
    "anomaly_maps = {}\n",
    "anomaly_map_emean = {}\n",
    "missing_data_mask_training = {}\n",
    "vid = cmipVar[ncvar]\n",
    "# loop over models\n",
    "models = training_models\n",
    "for im, model in enumerate([models[0]]):\n",
    "    # start timer\n",
    "    stime = clocktime.time()\n",
    "    # initialize nested dictionary for model data\n",
    "    global_mean_timeseries[model] = {}\n",
    "    anomaly_maps[model] = {}\n",
    "    anomaly_map_emean[model] = 0\n",
    "    missing_data_mask_training[model] = {}\n",
    "    # get model files\n",
    "    mpath = \"/\".join([root_dir, \"Training\", cmipTable[ncvar], ncvar, model])\n",
    "    mfiles = glob.glob(mpath + \"/*.nc\")\n",
    "    # parse file names to get list of model members\n",
    "    # CESM2 has a non-CMIP naming convention\n",
    "    if model == \"CESM2\":\n",
    "        members = [p.split(\"ssp370_\")[-1].split(\".1880\")[0] for p in mfiles]\n",
    "    else:\n",
    "        members = [p.split(\"_\")[-1].split(\".\")[0] for p in mfiles]\n",
    "    members = sorted(members, key=natsort)\n",
    "    # print progress\n",
    "    print(str(im + 1) + \" / \" + str(len(models)) + \": \" + model + \" (\" + str(len(members)) + \" members)\")\n",
    "    # loop over model members\n",
    "    for imm, member in enumerate(members):\n",
    "        # define member filename\n",
    "        fn = glob.glob(mpath + \"/*_\" + member + \".*.nc\")\n",
    "        # make sure filename is unique\n",
    "        if len(fn) != 1:\n",
    "            raise ValueError(\"Unexpected number of model members\")\n",
    "        else:\n",
    "            fn = fn[0]\n",
    "        # load data for realization\n",
    "        ts_3d, ts_gm = load_realization(fn, vid, tv_time_period, reference_period)\n",
    "        # store first N anomaly maps from training models\n",
    "        # also store all data for the validation models\n",
    "        if ((imm < n_members) & (model in training_models)):# | (model in validation_models):\n",
    "            # store masked data in array\n",
    "            anomaly_maps[model][member] = ts_3d\n",
    "        # ensemble mean anomaly map\n",
    "        anomaly_map_emean[model] = anomaly_map_emean[model] + ts_3d/len(members)\n",
    "        # save global mean time series for all model members\n",
    "        global_mean_timeseries[model][member] = ts_gm\n",
    "        # create mask for missing data\n",
    "        tmp = np.mean(ts_3d, axis=0)\n",
    "        missing_data_mask_training[model] = np.where(np.isnan(tmp), np.nan, 1)\n",
    "        # update progress\n",
    "        print(\".\", end=\"\")\n",
    "    # print time elapse for model\n",
    "    etime = clocktime.time()\n",
    "    print()\n",
    "    print(\"Time elapsed: \" + str(etime - stime) + \" seconds\")\n",
    "    print()"
   ]
  },
  {
   "cell_type": "code",
   "execution_count": 6,
   "id": "580d4287-cc49-4926-a66b-09841c8fa378",
   "metadata": {
    "tags": []
   },
   "outputs": [],
   "source": [
    "# example of how to get the ensemble member names for CESM2, one of the training models\n",
    "k = list(anomaly_maps['CESM2'].keys())"
   ]
  },
  {
   "cell_type": "code",
   "execution_count": 7,
   "id": "b4ce949d-4a1f-4c02-9499-3f370b8418ed",
   "metadata": {
    "tags": []
   },
   "outputs": [],
   "source": [
    "# example of how to extract the anomaly map for the first training map of CESM2\n",
    "anomalies = anomaly_maps['CESM2'][k[0]]\n",
    "# the ensemble mean anomalies have the same size, but are the mean over all members of the chosen training model\n",
    "anomalies_emean = anomaly_map_emean['CESM2']"
   ]
  },
  {
   "cell_type": "code",
   "execution_count": 8,
   "id": "08363484-46db-42c1-9538-26ab64251360",
   "metadata": {},
   "outputs": [],
   "source": [
    "from sklearn.linear_model import LinearRegression"
   ]
  },
  {
   "cell_type": "code",
   "execution_count": 9,
   "id": "bda86736-63f1-4120-8984-35513eb9708d",
   "metadata": {},
   "outputs": [],
   "source": [
    "lm = LinearRegression()"
   ]
  },
  {
   "cell_type": "code",
   "execution_count": 10,
   "id": "ffd3571e-04bb-47a3-83d7-9846b729d1dc",
   "metadata": {},
   "outputs": [],
   "source": [
    "emean_array = anomalies_emean.values"
   ]
  },
  {
   "cell_type": "code",
   "execution_count": 14,
   "id": "8c883978-c50d-406f-a8be-825add915ad2",
   "metadata": {},
   "outputs": [
    {
     "data": {
      "text/plain": [
       "array([[nan, nan, nan, ..., nan, nan, nan],\n",
       "       [nan, nan, nan, ..., nan, nan, nan],\n",
       "       [nan, nan, nan, ..., nan, nan, nan],\n",
       "       ...,\n",
       "       [nan, nan, nan, ..., nan, nan, nan],\n",
       "       [nan, nan, nan, ..., nan, nan, nan],\n",
       "       [nan, nan, nan, ..., nan, nan, nan]])"
      ]
     },
     "execution_count": 14,
     "metadata": {},
     "output_type": "execute_result"
    }
   ],
   "source": [
    "lm_array = np.empty((72, 144))\n",
    "\n",
    "lm_array[:] = np.nan\n",
    "\n",
    "lm_array"
   ]
  },
  {
   "cell_type": "code",
   "execution_count": 16,
   "id": "ffc9ad60-7923-4897-b5f8-8526993e30d4",
   "metadata": {},
   "outputs": [],
   "source": [
    "lm = LinearRegression()"
   ]
  },
  {
   "cell_type": "code",
   "execution_count": 17,
   "id": "b5ffd087-3520-4e81-83c5-dca4963e9998",
   "metadata": {},
   "outputs": [],
   "source": [
    "tmp_X = np.arange(876).reshape((-1, 1))\n",
    "\n",
    "for i in np.arange(72):\n",
    "    for j in np.arange(144):\n",
    "        tmp_data = emean_array[:, i, j]\n",
    "        \n",
    "        if np.any(np.isnan(tmp_data)):\n",
    "            continue\n",
    "        else:\n",
    "            lm_array[i, j] = lm.fit(X = tmp_X,\n",
    "                                    y = tmp_data).coef_[0]\n"
   ]
  },
  {
   "cell_type": "code",
   "execution_count": 18,
   "id": "1b72a0b4-6107-4a6c-bf24-f683df01d81b",
   "metadata": {},
   "outputs": [
    {
     "data": {
      "text/plain": [
       "(72, 144)"
      ]
     },
     "execution_count": 18,
     "metadata": {},
     "output_type": "execute_result"
    }
   ],
   "source": [
    "lm_array.shape"
   ]
  },
  {
   "cell_type": "code",
   "execution_count": 20,
   "id": "0f4d8dc1-52fd-484f-9bf1-5f2e53d25613",
   "metadata": {},
   "outputs": [],
   "source": [
    "lats = anomalies_emean.lat\n",
    "lons = anomalies_emean.lon"
   ]
  },
  {
   "cell_type": "code",
   "execution_count": 21,
   "id": "abf148e4-e870-43a8-8184-3b9ca3dbe456",
   "metadata": {},
   "outputs": [],
   "source": [
    "lm_da = xr.DataArray(lm_array,\n",
    "                     coords = {'lat': lats, 'lon': lons},\n",
    "                     dims = ['lat', 'lon'])"
   ]
  },
  {
   "cell_type": "code",
   "execution_count": 22,
   "id": "8b5d3294-755f-4acf-afe7-9063e2722f93",
   "metadata": {},
   "outputs": [],
   "source": [
    "lm_array2 = lm_array * 875 "
   ]
  },
  {
   "cell_type": "code",
   "execution_count": 23,
   "id": "902feb86-410d-472d-ab8d-73c57411723d",
   "metadata": {},
   "outputs": [],
   "source": [
    "lm_d2 = xr.DataArray(lm_array2,\n",
    "                     coords = {'lat': lats, 'lon': lons},\n",
    "                     dims = ['lat', 'lon'])"
   ]
  },
  {
   "cell_type": "code",
   "execution_count": 24,
   "id": "5be19a46-ff3d-437b-99f2-233483c80012",
   "metadata": {},
   "outputs": [
    {
     "data": {
      "image/png": "[encoded data removed]",
      "text/plain": [
       "<Figure size 640x480 with 2 Axes>"
      ]
     },
     "metadata": {},
     "output_type": "display_data"
    }
   ],
   "source": [
    "lm_d2.plot();"
   ]
  }
 ],
 "metadata": {
  "kernelspec": {
   "display_name": "ForceSMIP",
   "language": "python",
   "name": "forcesmip"
  },
  "language_info": {
   "codemirror_mode": {
    "name": "ipython",
    "version": 3
   },
   "file_extension": ".py",
   "mimetype": "text/x-python",
   "name": "python",
   "nbconvert_exporter": "python",
   "pygments_lexer": "ipython3",
   "version": "3.9.17"
  }
 },
 "nbformat": 4,
 "nbformat_minor": 5
}
